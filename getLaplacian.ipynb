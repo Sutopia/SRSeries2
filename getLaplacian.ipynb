{
 "cells": [
  {
   "cell_type": "code",
   "execution_count": 1,
   "metadata": {},
   "outputs": [],
   "source": [
    "import numpy\n",
    "from numpy.linalg import eigvals\n",
    "\n",
    "def printMatrix(Array): # This function is for displaying 2D Array in 2D\n",
    "    print(numpy.array(Array))\n",
    "\n",
    "# Exercise 1\n",
    "def get_laplacian(Edges, NodeCount, Directed):\n",
    "    Laplacian = [[0]*NodeCount for i in range(NodeCount)] # initialize n by n 0 array\n",
    "    \n",
    "    for Edge in Edges:\n",
    "        Laplacian [Edge[1]] [Edge[0]] -= 1\n",
    "        Laplacian [Edge[0]] [Edge[0]] += 1\n",
    "        if Directed == False :\n",
    "            Laplacian [Edge[0]] [Edge[1]] -= 1\n",
    "            Laplacian [Edge[1]] [Edge[1]] += 1\n",
    "            \n",
    "        # printMatrix(Laplacian)\n",
    "    return Laplacian\n",
    "            \n",
    "    \n",
    "def makeCycleGraph(Edges):\n",
    "    CycleGraph = [[i, i+1] for i in range(Edges)]\n",
    "    CycleGraph [Edges-1][1] = 0\n",
    "    return CycleGraph\n"
   ]
  },
  {
   "cell_type": "code",
   "execution_count": 2,
   "metadata": {},
   "outputs": [
    {
     "name": "stdout",
     "output_type": "stream",
     "text": [
      "[[ 2 -1 -1]\n",
      " [-1  2 -1]\n",
      " [-1 -1  2]]\n"
     ]
    }
   ],
   "source": [
    "printMatrix(get_laplacian([[0,1],\n",
    "                           [1,2],\n",
    "                           [2,0]],3,False))"
   ]
  },
  {
   "cell_type": "code",
   "execution_count": 3,
   "metadata": {},
   "outputs": [
    {
     "name": "stdout",
     "output_type": "stream",
     "text": [
      "[[ 1  0 -1]\n",
      " [-1  1  0]\n",
      " [ 0 -1  1]]\n"
     ]
    }
   ],
   "source": [
    "printMatrix(get_laplacian([[0,1],\n",
    "                           [1,2],\n",
    "                           [2,0]],3,True))"
   ]
  },
  {
   "cell_type": "code",
   "execution_count": 4,
   "metadata": {},
   "outputs": [
    {
     "name": "stdout",
     "output_type": "stream",
     "text": [
      "Two smallest eigenvalues of C5 are -0.0000, 1.3820\n",
      "Two largest eigenvalues of C5 are 3.6180, 3.6180\n"
     ]
    }
   ],
   "source": [
    "C5eigen = numpy.sort(eigvals(get_laplacian(makeCycleGraph(5),5,False)))\n",
    "print('Two smallest eigenvalues of C5 are %.4f, %.4f' % (C5eigen[0], C5eigen[1]))\n",
    "print('Two largest eigenvalues of C5 are %.4f, %.4f' % (C5eigen[-1], C5eigen[-2]))"
   ]
  },
  {
   "cell_type": "code",
   "execution_count": 5,
   "metadata": {},
   "outputs": [
    {
     "name": "stdout",
     "output_type": "stream",
     "text": [
      "Two smallest eigenvalues of C15 are -0.0000, 0.1729\n",
      "Two largest eigenvalues of C15 are 3.9563, 3.9563\n"
     ]
    }
   ],
   "source": [
    "C15eigen = numpy.sort(eigvals(get_laplacian(makeCycleGraph(15),15,False)))\n",
    "print('Two smallest eigenvalues of C15 are %.4f, %.4f' % (C15eigen[0], C15eigen[1]))\n",
    "print('Two largest eigenvalues of C15 are %.4f, %.4f' % (C15eigen[-1], C15eigen[-2]))"
   ]
  },
  {
   "cell_type": "code",
   "execution_count": 6,
   "metadata": {},
   "outputs": [
    {
     "name": "stdout",
     "output_type": "stream",
     "text": [
      "Two smallest eigenvalues of C199 are -0.0000, 0.0010\n",
      "Two largest eigenvalues of C199 are 3.9998, 3.9998\n"
     ]
    }
   ],
   "source": [
    "C199eigen = numpy.sort(eigvals(get_laplacian(makeCycleGraph(199),199,False)))\n",
    "print('Two smallest eigenvalues of C199 are %.4f, %.4f' % (C199eigen[0], C199eigen[1]))\n",
    "print('Two largest eigenvalues of C199 are %.4f, %.4f' % (C199eigen[-1], C199eigen[-2]))"
   ]
  },
  {
   "cell_type": "code",
   "execution_count": 7,
   "metadata": {},
   "outputs": [
    {
     "name": "stdout",
     "output_type": "stream",
     "text": [
      "Smallest non-0 eigenvalue = 0.5411\n"
     ]
    }
   ],
   "source": [
    "# Exercise 2\n",
    "from matplotlib import pyplot as plt\n",
    "\n",
    "Graph = [[0,2],\n",
    "         [1,2],\n",
    "         [2,3],\n",
    "         [2,4],\n",
    "         [2,6],\n",
    "         [4,6],\n",
    "         [4,5],\n",
    "         [4,7],\n",
    "         [6,5],\n",
    "         [6,7],\n",
    "         [6,8]]\n",
    "Laplacian = get_laplacian(Graph, 9, False)\n",
    "print('Smallest non-0 eigenvalue = %.4f'%numpy.sort(eigvals(Laplacian))[1])\n",
    "\n",
    "def simulate_consensus(x_0, T, L, dt = 0.001):\n",
    "    iterations = int(T/dt)\n",
    "    dimensions = len(x_0)\n",
    "    timelog = [0.0] * (iterations+1)\n",
    "    statelog = [[0.0] * (iterations+1) for i in range(dimensions)]\n",
    "    time = 0.0 + dt\n",
    "    for i in range(dimensions):\n",
    "        statelog[i][0] = x_0[i]\n",
    "    # printMatrix(statelog)\n",
    "    \n",
    "    for i in range(iterations):\n",
    "        timelog[i+1] = time\n",
    "        time += dt\n",
    "        for j in range(dimensions):\n",
    "            state = statelog[j][i]\n",
    "            for k in range(dimensions):\n",
    "                state -= dt * L[j][k] * statelog[k][i]\n",
    "            statelog[j][i+1] = state\n",
    "    return timelog, statelog\n",
    "\n",
    "def time_of_consensus(timelog, statelog, precision):\n",
    "    dimensions = len(statelog)\n",
    "    for time in range(len(timelog)):\n",
    "        maxVal = statelog[0][time]\n",
    "        minVal = statelog[0][time]\n",
    "        for i in range(1,dimensions):\n",
    "            if (statelog[i][time]>maxVal):\n",
    "                maxVal = statelog[i][time]\n",
    "            elif (statelog[i][time]<minVal):\n",
    "                minVal = statelog[i][time]\n",
    "        if (maxVal - minVal <= precision):\n",
    "            return timelog[time]\n",
    "    return -1.0\n",
    "            "
   ]
  },
  {
   "cell_type": "code",
   "execution_count": 8,
   "metadata": {
    "scrolled": true
   },
   "outputs": [
    {
     "name": "stdout",
     "output_type": "stream",
     "text": [
      "Converge time: 12.831\n"
     ]
    },
    {
     "data": {
      "image/png": "[encoded data removed]",
      "text/plain": [
       "<Figure size 432x288 with 1 Axes>"
      ]
     },
     "metadata": {
      "needs_background": "light"
     },
     "output_type": "display_data"
    }
   ],
   "source": [
    "x_0 = [10, 20, 12, 5, 30, 12, 15, 16, 25]\n",
    "timelog, statelog = simulate_consensus(x_0, 15, Laplacian,0.001)\n",
    "\n",
    "# %matplotlib inline \n",
    "plt.clf()\n",
    "for i in range(len(x_0)):\n",
    "    plt.plot(timelog, statelog[i])\n",
    "plt.xlim(0,15)\n",
    "plt.show\n",
    "\n",
    "print('Converge time: %.3f'%time_of_consensus(timelog, statelog, 0.01))"
   ]
  },
  {
   "cell_type": "code",
   "execution_count": 9,
   "metadata": {},
   "outputs": [
    {
     "name": "stdout",
     "output_type": "stream",
     "text": [
      "Smallest non-0 eigenvalue = 1.0000\n",
      "Converge time: 7.310\n"
     ]
    },
    {
     "data": {
      "image/png": "[encoded data removed]",
      "text/plain": [
       "<Figure size 432x288 with 1 Axes>"
      ]
     },
     "metadata": {
      "needs_background": "light"
     },
     "output_type": "display_data"
    }
   ],
   "source": [
    "Graph = [[0,2],\n",
    "         [1,2],\n",
    "         [2,3],\n",
    "         [4,6],\n",
    "         [4,5],\n",
    "         [4,7],\n",
    "         [6,5],\n",
    "         [6,7],\n",
    "         [6,8]]\n",
    "Laplacian = get_laplacian(Graph, 9, False)\n",
    "print('Smallest non-0 eigenvalue = %.4f'%numpy.sort(eigvals(Laplacian))[2])\n",
    "\n",
    "timelog, statelog = simulate_consensus(x_0, 10, Laplacian,)\n",
    "\n",
    "# %matplotlib inline \n",
    "plt.clf()\n",
    "for i in range(len(x_0)):\n",
    "    plt.plot(timelog, statelog[i])\n",
    "plt.xlim(0,10)\n",
    "plt.show\n",
    "\n",
    "converge1 = [statelog[0],statelog[1],statelog[2],statelog[3]]\n",
    "converge2 = [statelog[4],statelog[5],statelog[6],statelog[7],statelog[8]]\n",
    "time1 = time_of_consensus(timelog, converge1, 0.01)\n",
    "time2 = time_of_consensus(timelog, converge2, 0.01)\n",
    "print('Converge time: %.3f'%max(time1,time2))"
   ]
  },
  {
   "cell_type": "code",
   "execution_count": 10,
   "metadata": {},
   "outputs": [
    {
     "name": "stdout",
     "output_type": "stream",
     "text": [
      "Smallest non-0 eigenvalue = 9.0000\n",
      "Converge time: 0.866\n"
     ]
    },
    {
     "data": {
      "image/png": "[encoded data removed]",
      "text/plain": [
       "<Figure size 432x288 with 1 Axes>"
      ]
     },
     "metadata": {
      "needs_background": "light"
     },
     "output_type": "display_data"
    }
   ],
   "source": [
    "Graph = [[0,0] for i in range(36)]\n",
    "k = 0\n",
    "for i in range(9):\n",
    "    for j in range(i):\n",
    "        Graph[k] = [i,j]\n",
    "        k += 1\n",
    "Laplacian = get_laplacian(Graph, 9, False)\n",
    "print('Smallest non-0 eigenvalue = %.4f'%numpy.sort(eigvals(Laplacian))[1])\n",
    "\n",
    "timelog, statelog = simulate_consensus(x_0, 1, Laplacian,)\n",
    "\n",
    "# %matplotlib inline \n",
    "plt.clf()\n",
    "for i in range(len(x_0)):\n",
    "    plt.plot(timelog, statelog[i])\n",
    "plt.xlim(0,1)\n",
    "plt.show\n",
    "\n",
    "print('Converge time: %.3f'%time_of_consensus(timelog, statelog, 0.01))"
   ]
  },
  {
   "cell_type": "code",
   "execution_count": 12,
   "metadata": {},
   "outputs": [
    {
     "name": "stdout",
     "output_type": "stream",
     "text": [
      "Smallest non-0 eigenvalue = 0.4679\n",
      "Converge time: 12.920\n"
     ]
    },
    {
     "data": {
      "image/png": "[encoded data removed]",
      "text/plain": [
       "<Figure size 432x288 with 1 Axes>"
      ]
     },
     "metadata": {
      "needs_background": "light"
     },
     "output_type": "display_data"
    }
   ],
   "source": [
    "Graph = makeCycleGraph(9)\n",
    "Laplacian = get_laplacian(Graph, 9, False)\n",
    "print('Smallest non-0 eigenvalue = %.4f'%numpy.sort(eigvals(Laplacian))[1])\n",
    "\n",
    "timelog, statelog = simulate_consensus(x_0, 15, Laplacian,)\n",
    "\n",
    "# %matplotlib inline \n",
    "plt.clf()\n",
    "for i in range(len(x_0)):\n",
    "    plt.plot(timelog, statelog[i])\n",
    "plt.xlim(0,15)\n",
    "plt.show\n",
    "\n",
    "print('Converge time: %.3f'%time_of_consensus(timelog, statelog, 0.01))"
   ]
  },
  {
   "cell_type": "code",
   "execution_count": null,
   "metadata": {},
   "outputs": [],
   "source": []
  }
 ],
 "metadata": {
  "kernelspec": {
   "display_name": "Python 3",
   "language": "python",
   "name": "python3"
  },
  "language_info": {
   "codemirror_mode": {
    "name": "ipython",
    "version": 3
   },
   "file_extension": ".py",
   "mimetype": "text/x-python",
   "name": "python",
   "nbconvert_exporter": "python",
   "pygments_lexer": "ipython3",
   "version": "3.7.4"
  }
 },
 "nbformat": 4,
 "nbformat_minor": 2
}
