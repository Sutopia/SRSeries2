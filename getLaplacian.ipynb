{
 "cells": [
  {
   "cell_type": "code",
   "execution_count": 1,
   "metadata": {},
   "outputs": [],
   "source": [
    "import numpy\n",
    "from numpy.linalg import eigvals\n",
    "\n",
    "\n",
    "def printMatrix(Array): # This function is for displaying 2D Array in 2D\n",
    "    for row in Array:\n",
    "        print(row)\n",
    "\n",
    "        \n",
    "def get_laplacian(Edges, NodeCount, Directed):\n",
    "    Laplacian = [[0]*NodeCount for i in range(NodeCount)] # initialize n by n 0 array\n",
    "    \n",
    "    for Edge in Edges:\n",
    "        Laplacian [Edge[1]] [Edge[0]] -= 1\n",
    "        Laplacian [Edge[0]] [Edge[0]] += 1\n",
    "        if Directed == False :\n",
    "            Laplacian [Edge[0]] [Edge[1]] -= 1\n",
    "            Laplacian [Edge[0]] [Edge[0]] += 1\n",
    "    return Laplacian\n",
    "            \n",
    "    \n",
    "def makeCycleGraph(Edges):\n",
    "    CycleGraph = [[i, i+1] for i in range(Edges)]\n",
    "    CycleGraph [Edges-1][1] = 0\n",
    "    return CycleGraph\n"
   ]
  },
  {
   "cell_type": "code",
   "execution_count": 2,
   "metadata": {},
   "outputs": [
    {
     "name": "stdout",
     "output_type": "stream",
     "text": [
      "[2, -1, -1]\n",
      "[-1, 2, -1]\n",
      "[-1, -1, 2]\n"
     ]
    }
   ],
   "source": [
    "printMatrix(get_laplacian([[0,1],\n",
    "                           [1,2],\n",
    "                           [2,0]],3,False))"
   ]
  },
  {
   "cell_type": "code",
   "execution_count": 3,
   "metadata": {},
   "outputs": [
    {
     "name": "stdout",
     "output_type": "stream",
     "text": [
      "[1, 0, -1]\n",
      "[-1, 1, 0]\n",
      "[0, -1, 1]\n"
     ]
    }
   ],
   "source": [
    "printMatrix(get_laplacian([[0,1],\n",
    "                           [1,2],\n",
    "                           [2,0]],3,True))"
   ]
  },
  {
   "cell_type": "code",
   "execution_count": 4,
   "metadata": {},
   "outputs": [
    {
     "name": "stdout",
     "output_type": "stream",
     "text": [
      "Two smallest eigenvalues of C5 are -0.0000, 1.3820\n",
      "Two largest eigenvalues of C5 are 3.6180, 3.6180\n"
     ]
    }
   ],
   "source": [
    "C5eigen = numpy.sort(eigvals(get_laplacian(makeCycleGraph(5),5,False)))\n",
    "print('Two smallest eigenvalues of C5 are %.4f, %.4f' % (C5eigen[0], C5eigen[1]))\n",
    "print('Two largest eigenvalues of C5 are %.4f, %.4f' % (C5eigen[-1], C5eigen[-2]))"
   ]
  },
  {
   "cell_type": "code",
   "execution_count": 5,
   "metadata": {},
   "outputs": [
    {
     "name": "stdout",
     "output_type": "stream",
     "text": [
      "Two smallest eigenvalues of C15 are -0.0000, 0.1729\n",
      "Two largest eigenvalues of C15 are 3.9563, 3.9563\n"
     ]
    }
   ],
   "source": [
    "C15eigen = numpy.sort(eigvals(get_laplacian(makeCycleGraph(15),15,False)))\n",
    "print('Two smallest eigenvalues of C15 are %.4f, %.4f' % (C15eigen[0], C15eigen[1]))\n",
    "print('Two largest eigenvalues of C15 are %.4f, %.4f' % (C15eigen[-1], C15eigen[-2]))"
   ]
  },
  {
   "cell_type": "code",
   "execution_count": 6,
   "metadata": {},
   "outputs": [
    {
     "name": "stdout",
     "output_type": "stream",
     "text": [
      "Two smallest eigenvalues of C199 are -0.0000, 0.0010\n",
      "Two largest eigenvalues of C199 are 3.9998, 3.9998\n"
     ]
    }
   ],
   "source": [
    "C199eigen = numpy.sort(eigvals(get_laplacian(makeCycleGraph(199),199,False)))\n",
    "print('Two smallest eigenvalues of C199 are %.4f, %.4f' % (C199eigen[0], C199eigen[1]))\n",
    "print('Two largest eigenvalues of C199 are %.4f, %.4f' % (C199eigen[-1], C199eigen[-2]))"
   ]
  }
 ],
 "metadata": {
  "kernelspec": {
   "display_name": "Python 3",
   "language": "python",
   "name": "python3"
  },
  "language_info": {
   "codemirror_mode": {
    "name": "ipython",
    "version": 3
   },
   "file_extension": ".py",
   "mimetype": "text/x-python",
   "name": "python",
   "nbconvert_exporter": "python",
   "pygments_lexer": "ipython3",
   "version": "3.7.4"
  }
 },
 "nbformat": 4,
 "nbformat_minor": 2
}
